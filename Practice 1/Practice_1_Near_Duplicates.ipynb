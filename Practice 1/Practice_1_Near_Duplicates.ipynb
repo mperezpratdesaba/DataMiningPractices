{
 "cells": [
  {
   "cell_type": "markdown",
   "metadata": {},
   "source": [
    "# Practice Session 01: Find near-duplicates using shingling"
   ]
  },
  {
   "cell_type": "markdown",
   "metadata": {},
   "source": [
    "Author: <font color=\"blue\">Marc Pérez Pratdesaba</font>\n",
    "\n",
    "E-mail: <font color=\"blue\">marc.perez12@estudiant.upf.edu</font>\n",
    "\n",
    "Date: <font color=\"blue\">26/10/2022</font>"
   ]
  },
  {
   "cell_type": "markdown",
   "metadata": {},
   "source": [
    "In this practice we take a large corpus of tweets and detect near-duplicates on this corpus using a technique known as *shingling*.\n",
    "\n",
    "Two documents are considered near-duplicates if they share a large amount of ngrams. The *ngrams* of a phrase are overlapping sequences of words of length *n*. For instance, the phrase '*Never let them guess your next move.*' has the following 3-grams:\n",
    "\n",
    "* 'never let them'\n",
    "* 'let them guess'\n",
    "* 'them guess your'\n",
    "* 'guess your next'\n",
    "* 'your next move'\n",
    "\n",
    "To measure the similarity between two sets, we will use the [Jaccard index](https://en.wikipedia.org/wiki/Jaccard_index), which is the size of the intersection of the two sets divided by their union. This values goes between 0.0 (meaning the documents have no ngrams in common) to 1.0 (meaning the documents have the same ngrams).\n",
    "\n",
    "To speed up things, instead of comparing the set of shingles of two documents which can be large, we will derive a fixed-length *signature* or *sketch* for each document. This will be obtained by (1) applying a random permutation to the list of possible ngrams, and (2) pick the ngram that appears first in the permuted list. The Jaccard index between these signatures will be a good approximation of the Jaccard index between the original sets of ngrams. \n",
    "\n",
    "<font size=\"-1\" color=\"gray\">(Remove this cell when delivering.)</font>"
   ]
  },
  {
   "cell_type": "code",
   "execution_count": 34,
   "metadata": {},
   "outputs": [],
   "source": [
    "import io\n",
    "import json\n",
    "import gzip\n",
    "import re\n",
    "import random\n",
    "import numpy as np\n",
    "import matplotlib.pyplot as plt\n",
    "from timeit import default_timer as timer\n",
    "import datetime"
   ]
  },
  {
   "cell_type": "code",
   "execution_count": 35,
   "metadata": {},
   "outputs": [
    {
     "name": "stdout",
     "output_type": "stream",
     "text": [
      "Read 10000 documents\n"
     ]
    }
   ],
   "source": [
    "# Input file\n",
    "INPUT_FILENAME = \"CovidLockdownCatalonia.json.gz\"\n",
    "\n",
    "# Array for storing messages\n",
    "messages = []\n",
    "MAX_MESSAGES = 10000\n",
    "\n",
    "with gzip.open(INPUT_FILENAME, \"rt\", encoding=\"utf-8\") as input_file:\n",
    "    \n",
    "    messages_read = 0\n",
    "    for line in input_file:\n",
    "            \n",
    "        # Read message\n",
    "        tweet = json.loads(line)\n",
    "\n",
    "        # Keep only messages in Catalan\n",
    "        if tweet[\"lang\"] == \"ca\":\n",
    "            \n",
    "            messages_read += 1\n",
    "            \n",
    "            if messages_read <= MAX_MESSAGES:\n",
    "                author = tweet[\"user\"][\"screen_name\"]\n",
    "                message = tweet[\"full_text\"]\n",
    "                messages.append(message)\n",
    "\n",
    "print(\"Read %d documents\" % len(messages))"
   ]
  },
  {
   "cell_type": "markdown",
   "metadata": {},
   "source": [
    "# 1. Auxiliary functions"
   ]
  },
  {
   "cell_type": "code",
   "execution_count": 36,
   "metadata": {},
   "outputs": [],
   "source": [
    "def jaccard_similarity(list1, list2):\n",
    "    if (len(list1) > 0) and (len(list2) > 0):\n",
    "        set1 = set(list1)\n",
    "        set2 = set(list2)\n",
    "\n",
    "        union_set = set1.union(set2)\n",
    "        intersection_set = set1.intersection(set2)\n",
    "\n",
    "        jac_sim = len(intersection_set)/len(union_set)\n",
    "        \n",
    "        return jac_sim\n",
    "    return 0"
   ]
  },
  {
   "cell_type": "code",
   "execution_count": 37,
   "metadata": {},
   "outputs": [
    {
     "name": "stdout",
     "output_type": "stream",
     "text": [
      "Array similarity is 0.6666666666666666\n",
      "Array similarity is 0.75\n",
      "Array similarity is 1.0\n",
      "Array similarity is 0.0\n"
     ]
    }
   ],
   "source": [
    "#Examples of the function\n",
    "\n",
    "ex1 = [1, 2]\n",
    "ex2 = [1, 2, 3]\n",
    "print(f\"Array similarity is {jaccard_similarity(ex1, ex2)}\")\n",
    "\n",
    "ex3 = [1, 2, 3]\n",
    "ex4 = [1, 2, 3, 4]\n",
    "print(f\"Array similarity is {jaccard_similarity(ex3, ex4)}\")\n",
    "\n",
    "ex5 = [1, 2, 3]\n",
    "ex6 = [1, 2, 3]\n",
    "print(f\"Array similarity is {jaccard_similarity(ex5, ex6)}\")\n",
    "\n",
    "ex7 = [1, 2, 3]\n",
    "ex8 = [4, 5, 6]\n",
    "print(f\"Array similarity is {jaccard_similarity(ex7, ex8)}\")"
   ]
  },
  {
   "cell_type": "code",
   "execution_count": 38,
   "metadata": {},
   "outputs": [],
   "source": [
    "#Function that cleans messages\n",
    "\n",
    "def clean(array):\n",
    "    low_arr = array.lower() #converting to lowercase\n",
    "    no_rt = low_arr.lstrip(\"rt\") #remove rt sufix\n",
    "    no_http = re.sub(\"http\\S+\", \"\", no_rt) #replace http\n",
    "    no_https = re.sub(\"https\\S+\", \"\", no_http) #replace https\n",
    "    romantisize_arr = no_https.replace(\"ñ\", \"n\").replace(\"ó\", \"o\").replace(\"ò\", \"o\").replace(\"à\", \"a\").replace(\"á\", \"a\").replace(\"í\", \"i\").replace(\"é\", \"e\").replace(\"è\", \"e\").replace(\"ï\", \"i\").replace(\"l·l\", \"ll\").replace(\"ü\", \"u\") #romanize\n",
    "    no_remains_arr = re.sub(r\"[^a-zA-Z0-9 ]+\", \"\",  romantisize_arr) #remove character that is not letter or digit\n",
    "    single_space_arr = \" \".join(no_remains_arr.split()) #replace multiple spaces to single space\n",
    "    return single_space_arr"
   ]
  },
  {
   "cell_type": "code",
   "execution_count": 39,
   "metadata": {},
   "outputs": [
    {
     "name": "stdout",
     "output_type": "stream",
     "text": [
      "Original string: RT Wàter!mél????oÑ   ___???123\n",
      "Clean string: watermelon 123\n",
      "\n",
      "Original string: RT PiÑA  CòladÁ???!\n",
      "Clean string: pina colada\n",
      "\n",
      "Original string: https://t.co/mzSc5Y5VxK\n",
      "Clean string: \n",
      "\n",
      "Original string: Però tenim un dubte! 🤔\n",
      "Clean string: pero tenim un dubte\n",
      "\n",
      "Original string: EL  matÍ___??? increïblè?? vida\n",
      "Clean string: el mati increible vida\n",
      "\n"
     ]
    }
   ],
   "source": [
    "#Some examples of the method working\n",
    "\n",
    "t1 = \"RT Wàter!mél????oÑ   ___???123\"\n",
    "t2 = \"RT PiÑA  CòladÁ???!\"\n",
    "t3 = \"https://t.co/mzSc5Y5VxK\"\n",
    "t4 = \"Però tenim un dubte! 🤔\"\n",
    "t5 = \"EL  matÍ___??? increïblè?? vida\"\n",
    "\n",
    "test = [t1, t2, t3, t4, t5]\n",
    "\n",
    "for t in test:\n",
    "    print(f\"Original string: {t}\")\n",
    "    print(f\"Clean string: {clean(t)}\\n\")"
   ]
  },
  {
   "cell_type": "markdown",
   "metadata": {},
   "source": [
    "# 2. Implement an n-gram extractor"
   ]
  },
  {
   "cell_type": "code",
   "execution_count": 40,
   "metadata": {},
   "outputs": [],
   "source": [
    "MIN_TOKEN_LENGTH = 2\n",
    "\n",
    "#Function that checks that all words have at least MIN_TOKEN_LENGTH\n",
    "\n",
    "def words_to_consider(text):\n",
    "    for i in text:\n",
    "        if count_characters(i) < MIN_TOKEN_LENGTH:\n",
    "            text.remove(i)\n",
    "    return text"
   ]
  },
  {
   "cell_type": "code",
   "execution_count": 41,
   "metadata": {},
   "outputs": [],
   "source": [
    "#Method that generate the n-grams\n",
    "\n",
    "def ngrams(text, size):\n",
    "    tokens = words_to_consider(clean(text).split())\n",
    "    \n",
    "    ngrams_list = []\n",
    "    ngrams_res = []\n",
    "    for i in range(len(tokens)-size+1):\n",
    "        ngrams_list.append(tokens[i:i+size])\n",
    "    \n",
    "    for ngram in ngrams_list:\n",
    "        ngrams_res.append(\" \".join(ngram))\n",
    "    return ngrams_res"
   ]
  },
  {
   "cell_type": "code",
   "execution_count": 42,
   "metadata": {},
   "outputs": [
    {
     "name": "stdout",
     "output_type": "stream",
     "text": [
      "RT @diariARA: Comerciants xinesos donen mascaretes i gel antisèptic a Badalona per lluitar contra el coronavirus https://t.co/ybYXFxphIu\n",
      "['diariara comerciants', 'comerciants xinesos', 'xinesos donen', 'donen mascaretes', 'mascaretes gel', 'gel antiseptic', 'antiseptic badalona', 'badalona per', 'per lluitar', 'lluitar contra', 'contra el', 'el coronavirus']\n"
     ]
    }
   ],
   "source": [
    "print(messages[9780])\n",
    "print(ngrams(messages[9780], 2))"
   ]
  },
  {
   "cell_type": "markdown",
   "metadata": {},
   "source": [
    "# 3. Estimation for brute force method"
   ]
  },
  {
   "cell_type": "code",
   "execution_count": 43,
   "metadata": {},
   "outputs": [],
   "source": [
    "def time_brute_force_similarities(messages, limit, ngram_size):\n",
    "    if limit > len(messages):\n",
    "        raise ValueError(\"Limit should be less than or equal than the number of messages\")\n",
    "        \n",
    "    # Start a timer\n",
    "    start = timer()\n",
    "\n",
    "    # Iterate through document identifiers\n",
    "    for docid1 in range(np.min([len(messages), limit])):\n",
    "\n",
    "        # Clean document 1 and extract ngrams\n",
    "        doc1 = clean(messages[docid1])\n",
    "        ngrams1 = ngrams(doc1, ngram_size)\n",
    "\n",
    "        # Iterate through document identifiers larger than doc2\n",
    "        for docid2 in range(docid1+1, np.min([len(messages), limit])):\n",
    "                         \n",
    "            # Clean document 2 and extract ngrams\n",
    "            doc2 = clean(messages[docid2])\n",
    "            ngrams2 = ngrams(doc2, ngram_size)\n",
    "\n",
    "            # Compute similarity\n",
    "            similarity = jaccard_similarity(ngrams1, ngrams2)\n",
    "\n",
    "    end = timer()\n",
    "    return(end - start)"
   ]
  },
  {
   "cell_type": "code",
   "execution_count": 33,
   "metadata": {},
   "outputs": [
    {
     "data": {
      "image/png": "[encoded data removed]",
      "text/plain": [
       "<Figure size 432x288 with 1 Axes>"
      ]
     },
     "metadata": {
      "needs_background": "light"
     },
     "output_type": "display_data"
    }
   ],
   "source": [
    "ngram_size = 3\n",
    "limit = 10\n",
    "x_range = list(range(1, 2001, 150))\n",
    "y_time = []\n",
    "\n",
    "for i in x_range:\n",
    "    y_time.append(time_brute_force_similarities(messages[:i], i, ngram_size))\n",
    "\n",
    "plt.plot(x_range, y_time)\n",
    "plt.xlabel('Number of messages to check')\n",
    "plt.ylabel('Time to check')\n",
    "plt.suptitle(\"Time it takes to compare all first limit messages\")\n",
    "plt.show()"
   ]
  },
  {
   "cell_type": "markdown",
   "metadata": {},
   "source": [
    "1) What we can see in this plot a quadratic tendency. We can also see that the function has two nested for loop with n iterations each. Therefore, we could say that it has complexity O(n^2). Hence, the more messages we check, the quadratically greater time we will need.\n",
    "2) Taking into account that this plot lasted about 10-15 minutes to compare 2000 messages (ranging 150 every time), and the exponential tendency of the time, we could estimate that for the whole matrix it would take about 1 hour and 20 minutes approximately."
   ]
  },
  {
   "cell_type": "markdown",
   "metadata": {},
   "source": [
    "# 4. Computing the doc-ngram matrix"
   ]
  },
  {
   "cell_type": "markdown",
   "metadata": {},
   "source": [
    "## 4.1 Create list of all ngrams"
   ]
  },
  {
   "cell_type": "code",
   "execution_count": 44,
   "metadata": {},
   "outputs": [
    {
     "name": "stdout",
     "output_type": "stream",
     "text": [
      "There are 67193 distinct ngrams in the 10000 documents\n"
     ]
    }
   ],
   "source": [
    "NGRAM_SIZE = 3\n",
    "\n",
    "ngram_to_index = {}\n",
    "index_to_ngram = {}\n",
    "next_index = 0\n",
    "\n",
    "for message in messages:\n",
    "    all_ngrams = ngrams(message, NGRAM_SIZE)\n",
    "    for ngram in all_ngrams:\n",
    "        if ngram not in ngram_to_index:\n",
    "            ngram_to_index[ngram] = next_index\n",
    "            index_to_ngram[next_index] = ngram\n",
    "            next_index +=1\n",
    "\n",
    "num_distinct_ngrams = next_index\n",
    "\n",
    "print(\"There are %d distinct ngrams in the %d documents\" % (num_distinct_ngrams, len(messages)))"
   ]
  },
  {
   "cell_type": "code",
   "execution_count": 61,
   "metadata": {},
   "outputs": [
    {
     "name": "stdout",
     "output_type": "stream",
     "text": [
      "Ngram to index: 942, and index to ngram: tancat escoles fins\n",
      "Ngram to index: 34, and index to ngram: garantir la seguretat\n"
     ]
    }
   ],
   "source": [
    "idx_tancat = ngram_to_index[\"tancat escoles fins\"]\n",
    "idx_garantir = ngram_to_index[\"garantir la seguretat\"]\n",
    "print(f'Ngram to index: {idx_tancat}, and index to ngram: {index_to_ngram[idx_tancat]}')\n",
    "print(f'Ngram to index: {idx_garantir}, and index to ngram: {index_to_ngram[idx_garantir]}')"
   ]
  },
  {
   "cell_type": "markdown",
   "metadata": {},
   "source": [
    "## 2.2 Create table ngrams x documents"
   ]
  },
  {
   "cell_type": "code",
   "execution_count": 62,
   "metadata": {},
   "outputs": [
    {
     "name": "stdout",
     "output_type": "stream",
     "text": [
      "Matrix dimensions: 67193 rows (distinct shingles) x 10000 columns (distinct documents)\n"
     ]
    }
   ],
   "source": [
    "# Create dense matrix in which every cell contains the value \"False\"\n",
    "M_ngram_doc = np.full((num_distinct_ngrams, len(messages)), False)\n",
    "\n",
    "# Print the number of rows and columns of this matrix\n",
    "# numpy.matrix.shape is a tuple, shape[0] is the number of rows, shape[1] the number of columns\n",
    "print(\"Matrix dimensions: %d rows (distinct shingles) x %d columns (distinct documents)\" % M_ngram_doc.shape)"
   ]
  },
  {
   "cell_type": "code",
   "execution_count": 63,
   "metadata": {},
   "outputs": [],
   "source": [
    "for docid in range(len(messages)):\n",
    "    message = messages[docid]\n",
    "    all_ngrams = ngrams(message, NGRAM_SIZE)\n",
    "    for ngram in all_ngrams:\n",
    "        M_ngram_doc[ngram_to_index[ngram]][docid] = True"
   ]
  },
  {
   "cell_type": "code",
   "execution_count": 67,
   "metadata": {},
   "outputs": [
    {
     "name": "stdout",
     "output_type": "stream",
     "text": [
      "Density of the matrix: 2.3 %\n"
     ]
    }
   ],
   "source": [
    "num_cells = (M_ngram_doc.shape[0])*(M_ngram_doc.shape[1]) #num_cells = rows*columns\n",
    "density = (np.count_nonzero(M_ngram_doc)/num_cells)*100\n",
    "print(f'Density of the matrix: {round(density, 3)*100} %')"
   ]
  },
  {
   "cell_type": "code",
   "execution_count": 70,
   "metadata": {},
   "outputs": [
    {
     "name": "stdout",
     "output_type": "stream",
     "text": [
      "Row 9602 is [False False False ... False False False]\n",
      "Row 941 is [False False False ... False False False]\n",
      "\n",
      "The number of non-zeros in row 9602 is 3\n",
      "The number of non-zeros in row 9602 is 2\n"
     ]
    }
   ],
   "source": [
    "print(f'Row 9602 is {M_ngram_doc[9602][:]}')\n",
    "print(f'Row 941 is {M_ngram_doc[941][:]}\\n')\n",
    "\n",
    "#For row 9602\n",
    "count_9602 = 0\n",
    "for i in range(len(M_ngram_doc[9602][:])):\n",
    "    if M_ngram_doc[9602][i] == True:\n",
    "        count_9602 += 1\n",
    "print(f'The number of non-zeros in row 9602 is {count_9602}')\n",
    "\n",
    "#For row 941\n",
    "count_941 = 0\n",
    "for i in range(len(M_ngram_doc[941][:])):\n",
    "    if M_ngram_doc[941][i] == True:\n",
    "        count_941 += 1\n",
    "print(f'The number of non-zeros in row 9602 is {count_941}')"
   ]
  },
  {
   "cell_type": "markdown",
   "metadata": {},
   "source": [
    "# 3. Implement a permutation generator"
   ]
  },
  {
   "cell_type": "code",
   "execution_count": 72,
   "metadata": {},
   "outputs": [
    {
     "name": "stdout",
     "output_type": "stream",
     "text": [
      "[3, 7, 11, 4, 1, 18, 15, 13, 2, 8, 6, 9, 12, 16, 19, 14, 10, 17, 5]\n"
     ]
    }
   ],
   "source": [
    "#Mehtod that creates a random permutation\n",
    "\n",
    "def random_permutation(k):\n",
    "    l = list(range(1, k))\n",
    "    random.shuffle(l)\n",
    "    return l\n",
    "\n",
    "print(random_permutation(20))"
   ]
  },
  {
   "cell_type": "code",
   "execution_count": 73,
   "metadata": {},
   "outputs": [
    {
     "name": "stdout",
     "output_type": "stream",
     "text": [
      "Test one permutation:\n",
      "['3 (tīn)', '5 (pāṅc)', '4 (chār)', '2 (do)']\n",
      "['3 (tri)', '5 (pet)', '4 (četiri)', '2 (dva)']\n",
      "\n",
      "Test another permutation\n",
      "['3 (tīn)', '2 (do)', '5 (pāṅc)', '4 (chār)']\n",
      "['3 (tri)', '2 (dva)', '5 (pet)', '4 (četiri)']\n"
     ]
    }
   ],
   "source": [
    "# Permute a list according to a permutation\n",
    "def permuter(original_list, permutation):\n",
    "    permuted_list = []\n",
    "    for index in permutation:\n",
    "        permuted_list.append(original_list[index])\n",
    "    return permuted_list\n",
    "\n",
    "# Code for testing permutations\n",
    "original_list_1 = [\"1 (ek)\", \"2 (do)\", \"3 (tīn)\", \"4 (chār)\", \"5 (pāṅc)\"]\n",
    "original_list_2 = [\"1 (jedan)\", \"2 (dva)\", \"3 (tri)\", \"4 (četiri)\", \"5 (pet)\"]\n",
    "\n",
    "print(\"Test one permutation:\")\n",
    "permutation_1 = random_permutation(5)\n",
    "print(permuter(original_list_1, permutation_1))\n",
    "print(permuter(original_list_2, permutation_1))\n",
    "\n",
    "print()\n",
    "\n",
    "print(\"Test another permutation\")\n",
    "permutation_2 = random_permutation(5)\n",
    "print(permuter(original_list_1, permutation_2))\n",
    "print(permuter(original_list_2, permutation_2))"
   ]
  },
  {
   "cell_type": "markdown",
   "metadata": {},
   "source": [
    "# 4. Compute the signature of each document"
   ]
  },
  {
   "cell_type": "code",
   "execution_count": 74,
   "metadata": {},
   "outputs": [
    {
     "name": "stdout",
     "output_type": "stream",
     "text": [
      "Permutation 0: 60795, 55178, 37108, ...\n",
      "Permutation 1: 22099, 13702, 64983, ...\n",
      "Permutation 2: 5612, 34903, 41415, ...\n",
      "Permutation 3: 4721, 58597, 13942, ...\n",
      "Permutation 4: 43860, 16025, 27697, ...\n"
     ]
    }
   ],
   "source": [
    "NUM_PERMUTATIONS = 5\n",
    "\n",
    "permutations = []\n",
    "\n",
    "# Create the permutations\n",
    "for i in range(NUM_PERMUTATIONS):\n",
    "    permutation = random_permutation(num_distinct_ngrams)\n",
    "    permutations.append(random_permutation(num_distinct_ngrams))\n",
    "    \n",
    "# Visualize the permutations by printing their first 3 elements\n",
    "for i in range(len(permutations)):\n",
    "    permutation = permutations[i]\n",
    "    print(\"Permutation %d: %d, %d, %d, ...\" % (i, permutation[0], permutation[1], permutation[2] ))"
   ]
  },
  {
   "cell_type": "code",
   "execution_count": 75,
   "metadata": {},
   "outputs": [
    {
     "name": "stdout",
     "output_type": "stream",
     "text": [
      "Creating signatures for permutation 1/5\n",
      "- Scanning document 0 of 10000\n",
      "- Scanning document 1000 of 10000\n",
      "- Scanning document 2000 of 10000\n",
      "- Scanning document 3000 of 10000\n",
      "- Scanning document 4000 of 10000\n",
      "- Scanning document 5000 of 10000\n",
      "- Scanning document 6000 of 10000\n",
      "- Scanning document 7000 of 10000\n",
      "- Scanning document 8000 of 10000\n",
      "- Scanning document 9000 of 10000\n",
      "Creating signatures for permutation 2/5\n",
      "- Scanning document 0 of 10000\n",
      "- Scanning document 1000 of 10000\n",
      "- Scanning document 2000 of 10000\n",
      "- Scanning document 3000 of 10000\n",
      "- Scanning document 4000 of 10000\n",
      "- Scanning document 5000 of 10000\n",
      "- Scanning document 6000 of 10000\n",
      "- Scanning document 7000 of 10000\n",
      "- Scanning document 8000 of 10000\n",
      "- Scanning document 9000 of 10000\n",
      "Creating signatures for permutation 3/5\n",
      "- Scanning document 0 of 10000\n",
      "- Scanning document 1000 of 10000\n",
      "- Scanning document 2000 of 10000\n",
      "- Scanning document 3000 of 10000\n",
      "- Scanning document 4000 of 10000\n",
      "- Scanning document 5000 of 10000\n",
      "- Scanning document 6000 of 10000\n",
      "- Scanning document 7000 of 10000\n",
      "- Scanning document 8000 of 10000\n",
      "- Scanning document 9000 of 10000\n",
      "Creating signatures for permutation 4/5\n",
      "- Scanning document 0 of 10000\n",
      "- Scanning document 1000 of 10000\n",
      "- Scanning document 2000 of 10000\n",
      "- Scanning document 3000 of 10000\n",
      "- Scanning document 4000 of 10000\n",
      "- Scanning document 5000 of 10000\n",
      "- Scanning document 6000 of 10000\n",
      "- Scanning document 7000 of 10000\n",
      "- Scanning document 8000 of 10000\n",
      "- Scanning document 9000 of 10000\n",
      "Creating signatures for permutation 5/5\n",
      "- Scanning document 0 of 10000\n",
      "- Scanning document 1000 of 10000\n",
      "- Scanning document 2000 of 10000\n",
      "- Scanning document 3000 of 10000\n",
      "- Scanning document 4000 of 10000\n",
      "- Scanning document 5000 of 10000\n",
      "- Scanning document 6000 of 10000\n",
      "- Scanning document 7000 of 10000\n",
      "- Scanning document 8000 of 10000\n",
      "- Scanning document 9000 of 10000\n"
     ]
    }
   ],
   "source": [
    "M_signature_doc = np.full((NUM_PERMUTATIONS, len(messages)), np.nan)\n",
    "\n",
    "# Find the first ngram in a document, according to a permutation\n",
    "def find_first_one(docid, permutation):\n",
    "    for shingle_id in permutation:\n",
    "        if M_ngram_doc[shingle_id, docid] == True:\n",
    "            return shingle_id\n",
    "    return -1\n",
    "\n",
    "# Create permutations\n",
    "for permutation_num in range(NUM_PERMUTATIONS):\n",
    "    print(\"Creating signatures for permutation %d/%d\" % (permutation_num+1, NUM_PERMUTATIONS))\n",
    "    permutation = permutations[permutation_num]\n",
    "    for docid in range(len(messages)):\n",
    "        if docid % 1000 == 0:\n",
    "            print(\"- Scanning document %d of %d\" % (docid, len(messages)))\n",
    "        M_signature_doc[permutation_num][docid] = find_first_one(docid, permutation)"
   ]
  },
  {
   "cell_type": "code",
   "execution_count": 76,
   "metadata": {},
   "outputs": [
    {
     "name": "stdout",
     "output_type": "stream",
     "text": [
      "Document #385\n",
      "Message       : RT @gencat: 🔴 El @govern de la @gencat anuncia el #confinament de tot Catalunya.\n",
      "\n",
      "Davant l’emergència de la #COVID19, el missatge és clau:…\n",
      "Clean message : gencat el govern de la gencat anuncia el confinament de tot catalunyadavant lemergencia de la covid19 el missatge es clau\n",
      "Ngrams        : [61, 3341, 3467, 4111, 4918, 4919, 4920, 4921, 4922, 4923, 4924, 4925, 4926, 4927, 4928, 4929, 4930, 4931]\n",
      "Signature     : [4922.0, 4111.0, 4927.0, 4919.0, 4926.0]\n",
      "\n",
      "Document #627\n",
      "Message       : PROCICAT_CORONAVIRUS. El @govern de la @gencat anuncia el #confinament de tot Catalunya. Davant l’emergència de la #COVID19, el missatge és clau: limitar la mobilitat ajudarà a evitar la propagació del #coronavirus. Evitem desplaçaments i reduïm la vida social #JoEmQuedoACasa\n",
      "Clean message : procicatcoronavirus el govern de la gencat anuncia el confinament de tot catalunya davant lemergencia de la covid19 el missatge es clau limitar la mobilitat ajudara a evitar la propagacio del coronavirus evitem desplaaments i reduim la vida social joemquedoacasa\n",
      "Ngrams        : [61, 236, 237, 323, 1552, 1553, 1554, 1555, 3341, 3467, 4111, 4919, 4920, 4921, 4922, 4923, 4927, 4928, 4929, 4930, 4931, 5686, 7259, 7260, 7261, 7262, 7263, 7264, 7265, 7266, 7267, 7268, 7269, 7270, 7271]\n",
      "Signature     : [7271.0, 7261.0, 7262.0, 237.0, 1554.0]\n"
     ]
    }
   ],
   "source": [
    "# Leave this code as-is\n",
    "\n",
    "def extract_ngrams(docid):\n",
    "    return [x for x in range(num_distinct_ngrams) if M_ngram_doc[x, docid] == True]\n",
    "\n",
    "def extract_signature(docid):\n",
    "    return [M_signature_doc[x, docid] for x in range(NUM_PERMUTATIONS)]\n",
    "\n",
    "def print_sig(messages, M_ngram_doc, M_signature_doc, i):\n",
    "    print(\"Document #%d\" % i)\n",
    "    print(\"Message       : %s\" % messages[i])\n",
    "    print(\"Clean message : %s\" % clean(messages[i]))\n",
    "    print(\"Ngrams        : %s\" % extract_ngrams(i))\n",
    "    print(\"Signature     : %s\" % extract_signature(i))\n",
    "\n",
    "        \n",
    "i = 385\n",
    "j = 627\n",
    "\n",
    "print_sig(messages, M_ngram_doc, M_signature_doc, i )\n",
    "\n",
    "print()\n",
    "\n",
    "print_sig(messages, M_ngram_doc, M_signature_doc, j )"
   ]
  },
  {
   "cell_type": "markdown",
   "metadata": {},
   "source": [
    "# 5. Compare all pairs of signatures"
   ]
  },
  {
   "cell_type": "code",
   "execution_count": 77,
   "metadata": {},
   "outputs": [
    {
     "name": "stdout",
     "output_type": "stream",
     "text": [
      "0/10000 documents scanned\n",
      "Doc: 16 has 20 partial matches and 71 full matches\n",
      "Doc: 42 has 28 partial matches and 24 full matches\n",
      "Doc: 53 has 0 partial matches and 57 full matches\n",
      "Doc: 166 has 0 partial matches and 56 full matches\n",
      "Doc: 328 has 0 partial matches and 65 full matches\n",
      "500/10000 documents scanned\n",
      "1000/10000 documents scanned\n",
      "1500/10000 documents scanned\n",
      "2000/10000 documents scanned\n",
      "2500/10000 documents scanned\n",
      "3000/10000 documents scanned\n",
      "3500/10000 documents scanned\n",
      "4000/10000 documents scanned\n",
      "4500/10000 documents scanned\n",
      "5000/10000 documents scanned\n",
      "Doc: 5077 has 3 partial matches and 176 full matches\n",
      "Doc: 5109 has 0 partial matches and 66 full matches\n",
      "Doc: 5117 has 0 partial matches and 71 full matches\n",
      "Doc: 5129 has 0 partial matches and 54 full matches\n",
      "Doc: 5271 has 0 partial matches and 54 full matches\n"
     ]
    }
   ],
   "source": [
    "is_possible_duplicate = []\n",
    "\n",
    "# Iterate through all documents\n",
    "for docid1 in range(len(messages)):\n",
    "\n",
    "     # Do not examine again a document that is a possible duplicate\n",
    "    if docid not in is_possible_duplicate:\n",
    "\n",
    "        # Counters for full and partial signature matches\n",
    "        count_sig_full_matches = 0\n",
    "        count_sig_partial_matches = 0\n",
    "\n",
    "        # Extract the signature of the doc1\n",
    "        signature1 = extract_signature(docid1)\n",
    "        if docid1 % 500 == 0:\n",
    "            print(\"%d/%d documents scanned\" % (docid1, len(messages)))\n",
    "\n",
    "        # Iterate through documents with docid larger than doc1\n",
    "        for docid2 in range(docid1+1, len(messages)):\n",
    "\n",
    "            # If this has not already been marked as duplicate of another document\n",
    "            if docid2 not in is_possible_duplicate:\n",
    "\n",
    "                # Extract signature of doc2\n",
    "                signature2 = extract_signature(docid2)\n",
    "                \n",
    "                similarity = jaccard_similarity(signature1, signature2)\n",
    "                if similarity == 1: # Check depending on the similarities\n",
    "                    count_sig_full_matches += 1\n",
    "                    is_possible_duplicate.append(docid2)\n",
    "                elif 0.2 < similarity < 1:\n",
    "                    count_sig_partial_matches += 1\n",
    "                    is_possible_duplicate.append(docid2)\n",
    "                    \n",
    "        if (count_sig_partial_matches + count_sig_full_matches) > 50: # If it surpasses the limit, we include docid1 as possible duplicate\n",
    "            print(f\"Doc: {docid1} has {count_sig_partial_matches} partial matches and {count_sig_full_matches} full matches\")\n",
    "            is_possible_duplicate.append(docid1)\n"
   ]
  },
  {
   "cell_type": "markdown",
   "metadata": {},
   "source": [
    "One tweet that has a substantial number of complete matches, but few partial matches is the docid: 328"
   ]
  },
  {
   "cell_type": "code",
   "execution_count": 78,
   "metadata": {},
   "outputs": [
    {
     "name": "stdout",
     "output_type": "stream",
     "text": [
      "RT @QuimTorraiPla: Estem preparats per fer-ho. Cal que l’Estat accedeixi a aturar entrades i sortides als ports, aeroports i vies ferroviàr…\n"
     ]
    }
   ],
   "source": [
    "print(messages[328])"
   ]
  },
  {
   "cell_type": "markdown",
   "metadata": {},
   "source": [
    "This is because this tweet does not refere to anything in particular. It is an answer from the president of Catalunya at the time for some question that someone may have made to him. If the tweet contained words like Covid or pandemic, it would have contained more partial matches."
   ]
  },
  {
   "cell_type": "markdown",
   "metadata": {},
   "source": [
    "One tweet that has a substantial number of partial matches, but few complete matches is the docid: 42"
   ]
  },
  {
   "cell_type": "code",
   "execution_count": 79,
   "metadata": {},
   "outputs": [
    {
     "name": "stdout",
     "output_type": "stream",
     "text": [
      "RT @VilaWeb: Els @mossos diuen que és més senzill confinar el Principat que diverses ciutats a la vegada https://t.co/piyLz82e9d\n"
     ]
    }
   ],
   "source": [
    "print(messages[42])"
   ]
  },
  {
   "cell_type": "markdown",
   "metadata": {},
   "source": [
    "This tweet talks must contain ngrams that have usually been used at the time where Covid was very present. "
   ]
  }
 ],
 "metadata": {
  "kernelspec": {
   "display_name": "Python 3",
   "language": "python",
   "name": "python3"
  },
  "language_info": {
   "codemirror_mode": {
    "name": "ipython",
    "version": 3
   },
   "file_extension": ".py",
   "mimetype": "text/x-python",
   "name": "python",
   "nbconvert_exporter": "python",
   "pygments_lexer": "ipython3",
   "version": "3.8.8"
  }
 },
 "nbformat": 4,
 "nbformat_minor": 2
}
