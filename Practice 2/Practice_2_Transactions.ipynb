{
 "cells": [
  {
   "cell_type": "markdown",
   "metadata": {},
   "source": [
    "# Practice Session 02: Basket analysis"
   ]
  },
  {
   "cell_type": "markdown",
   "metadata": {},
   "source": [
    "Author: <font color=\"blue\">Marc Pérez Pratdesaba</font>\n",
    "\n",
    "E-mail: <font color=\"blue\">marc.perez12@estudiant.upf.edu</font>\n",
    "\n",
    "Date: <font color=\"blue\">26/10/2022</font>"
   ]
  },
  {
   "cell_type": "markdown",
   "metadata": {},
   "source": [
    "In this practice, we use association rule mining techniques. They are useful to analyze datasets consisting of transactions, in which each transaction is a collection of items.\n",
    "\n",
    "We will use a well-known dataset named [Instacart](https://www.kaggle.com/c/instacart-market-basket-analysis) containing more than 3 million orders of products through a grocery shopping app. You can find it in the `instacart/` directory of the practicum data files."
   ]
  },
  {
   "cell_type": "code",
   "execution_count": 1,
   "metadata": {},
   "outputs": [],
   "source": [
    "import numpy as np  \n",
    "import matplotlib.pyplot as plt  \n",
    "import pandas as pd  \n",
    "import csv\n",
    "import gzip\n",
    "from apyori import apriori"
   ]
  },
  {
   "cell_type": "markdown",
   "metadata": {},
   "source": [
    "# 1. Playing with apyori"
   ]
  },
  {
   "cell_type": "code",
   "execution_count": 20,
   "metadata": {},
   "outputs": [],
   "source": [
    "def print_apyori_output (association_results, info=False, info_key=False):\n",
    "    for relation_record in association_results:\n",
    "        itemset = list(relation_record.items)\n",
    "        \n",
    "        # Consider only itemsets of two elements\n",
    "        if len(itemset) > 1: \n",
    "            \n",
    "            print(\"Rules involving itemset %s\" % itemset)\n",
    "            support = relation_record.support\n",
    "\n",
    "            for rules in relation_record.ordered_statistics:\n",
    "                antecedent = list(rules.items_base)\n",
    "                consequent = list(rules.items_add)\n",
    "                \n",
    "                if info_key:\n",
    "                    antecedent = [info.loc[x][info_key] for x in antecedent]\n",
    "                    consequent = [info.loc[x][info_key] for x in consequent]\n",
    "                confidence = rules.confidence\n",
    "                lift = rules.lift\n",
    "\n",
    "                print(\"%s => %s (support=%.4f, confidence=%.2f, lift=%.2f)\" %\n",
    "                      (antecedent, consequent, support, confidence, lift))\n",
    "            print()"
   ]
  },
  {
   "cell_type": "code",
   "execution_count": 21,
   "metadata": {},
   "outputs": [
    {
     "name": "stdout",
     "output_type": "stream",
     "text": [
      "Rules involving itemset ['olives', 'beer', 'chips']\n",
      "['beer', 'chips'] => ['olives'] (support=0.3000, confidence=1.00, lift=1.67)\n",
      "\n"
     ]
    }
   ],
   "source": [
    "#Example\n",
    "\n",
    "transactions = [\n",
    "    ['beer', 'chips', 'nuts', 'olives'],\n",
    "    ['beer', 'chips', 'olives'],\n",
    "    ['chips', 'nuts' ],\n",
    "    ['chips', 'olives'],\n",
    "    ['beer', 'nuts' ],\n",
    "    ['chips'],\n",
    "    ['nuts', 'olives'],\n",
    "    ['beer', 'nuts'],\n",
    "    ['beer', 'chips', 'olives'], \n",
    "    ['beer', 'nuts', 'olives'], \n",
    "\n",
    "]\n",
    "\n",
    "results = list(apriori(transactions, min_support=0.2, min_confidence=0.75, min_lift=1.0))\n",
    "print_apyori_output(results)"
   ]
  },
  {
   "cell_type": "code",
   "execution_count": 4,
   "metadata": {},
   "outputs": [
    {
     "name": "stdout",
     "output_type": "stream",
     "text": [
      "Rules involving itemset ['rammus', 'lulu']\n",
      "['rammus'] => ['lulu'] (support=0.2500, confidence=0.83, lift=2.08)\n",
      "\n",
      "Rules involving itemset ['rammus', 'lulu', 'diana']\n",
      "['rammus', 'diana'] => ['lulu'] (support=0.2000, confidence=1.00, lift=2.50)\n",
      "['rammus', 'lulu'] => ['diana'] (support=0.2000, confidence=0.80, lift=1.78)\n",
      "\n"
     ]
    }
   ],
   "source": [
    "# This transactions indicate the different characters that the player can choose when playing League of Legends\n",
    "\n",
    "transactions_league = [\n",
    "    ['zac', 'kayn', 'lulu', 'ahri', 'diana'],\n",
    "    ['kayn', 'sivir', \"garen\"],\n",
    "    ['sivir', 'zac' ],\n",
    "    ['kassadin', 'garen'],\n",
    "    ['rammus', 'diana', 'lulu', 'yasuo'],\n",
    "    ['ahri'],\n",
    "    ['diana', 'darius'],\n",
    "    ['kassadin', 'sivir', 'diana'],\n",
    "    ['rammus', 'gragas', 'lulu'], \n",
    "    ['rammus', 'diana', 'lulu', \"veigar\"],\n",
    "    ['syndra', 'diana', 'ryze'],\n",
    "    ['darius', 'kayn', 'lulu'],\n",
    "    ['riven'],\n",
    "    ['ryze', 'swain', 'teemo'],\n",
    "    ['teemo', 'ryze', 'vayne', 'vi'],\n",
    "    ['vex', 'zac'],\n",
    "    ['yone', 'yasuo', 'rammus', 'lulu', 'diana'],\n",
    "    ['zeri', 'rammus', 'diana', 'lulu'],\n",
    "    ['poppy', 'quinn', 'zed', 'garen', 'lulu', 'diana'],\n",
    "    ['renekton', 'rammus']\n",
    "]\n",
    "\n",
    "results = list(apriori(transactions_league, min_support=0.2, min_confidence=0.75, min_lift=1.0))\n",
    "print_apyori_output(results)"
   ]
  },
  {
   "cell_type": "code",
   "execution_count": 22,
   "metadata": {},
   "outputs": [
    {
     "name": "stdout",
     "output_type": "stream",
     "text": [
      "For the first rule we have that: \n",
      "\n",
      "Support(Rammus) = (Transactions containing rammus and lulu)/(Total number of transactions) = 5/20 = 0.25\n",
      "Confidence(Rammus -> Lulu) = (Transactions containing rammus and lulu)/(Transactions containing rammus) = 5/6 = 0.83\n",
      "Lift(Rammus -> Lulu) = (Confidence(Rammus -> Lulu))/(Support(Lulu)) = (0.83)/(0.4) = 2.08\n",
      "\n",
      "For the second rule we have that: \n",
      "\n",
      "Support([Rammus, Diana]) = (Transactions containing diana and rammus)/(Total number of transactions) = 4/20 = 0.2\n",
      "Confidence([Rammus, Diana] -> Lulu) = (Transactions containing diana, rammus and lulu)/(Transactions containing diana and rammus) = 4/4 = 1\n",
      "Lift([Rammus, Diana] -> Lulu) = (Confidence([Diana,Rammus] -> Lulu))/(Support(Lulu)) = 1/(0.4) = 2.5\n",
      "\n",
      "For the third rule we have that: \n",
      "\n",
      "Support([Rammus, Lulu]) = (Transactions containing diana and lulu)/(Total number of transactions) = 4/20 = 0.2\n",
      "Confidence([Rammus, Lulu] -> Diana) = (Transactions containing diana, rammus and lulu)/(Transactions containing lulu and rammus) = 4/5 = 0.8\n",
      "Lift([Rammus, Lulu] -> Diana) = (Confidence([Rammus, Lulu] -> Diana))/(Support(Diana)) = (0.8)/(0.45) = 1.78\n"
     ]
    }
   ],
   "source": [
    "print(\"For the first rule we have that: \\n\")\n",
    "\n",
    "print(\"Support(Rammus) = (Transactions containing rammus and lulu)/(Total number of transactions) = 5/20 = 0.25\")\n",
    "print(\"Confidence(Rammus -> Lulu) = (Transactions containing rammus and lulu)/(Transactions containing rammus) = 5/6 = 0.83\")\n",
    "print(\"Lift(Rammus -> Lulu) = (Confidence(Rammus -> Lulu))/(Support(Lulu)) = (0.83)/(0.4) = 2.08\")\n",
    "\n",
    "print(\"\\nFor the second rule we have that: \\n\")\n",
    "\n",
    "print(\"Support([Rammus, Diana]) = (Transactions containing diana and rammus)/(Total number of transactions) = 4/20 = 0.2\")\n",
    "print(\"Confidence([Rammus, Diana] -> Lulu) = (Transactions containing diana, rammus and lulu)/(Transactions containing diana and rammus) = 4/4 = 1\")\n",
    "print(\"Lift([Rammus, Diana] -> Lulu) = (Confidence([Diana,Rammus] -> Lulu))/(Support(Lulu)) = 1/(0.4) = 2.5\")\n",
    "\n",
    "print(\"\\nFor the third rule we have that: \\n\")\n",
    "\n",
    "print(\"Support([Rammus, Lulu]) = (Transactions containing diana and lulu)/(Total number of transactions) = 4/20 = 0.2\")\n",
    "print(\"Confidence([Rammus, Lulu] -> Diana) = (Transactions containing diana, rammus and lulu)/(Transactions containing lulu and rammus) = 4/5 = 0.8\")\n",
    "print(\"Lift([Rammus, Lulu] -> Diana) = (Confidence([Rammus, Lulu] -> Diana))/(Support(Diana)) = (0.8)/(0.45) = 1.78\")"
   ]
  },
  {
   "cell_type": "markdown",
   "metadata": {},
   "source": [
    "# 2. Load and prepare the shopping baskets"
   ]
  },
  {
   "cell_type": "code",
   "execution_count": 6,
   "metadata": {},
   "outputs": [
    {
     "data": {
      "text/html": [
       "<div>\n",
       "<style scoped>\n",
       "    .dataframe tbody tr th:only-of-type {\n",
       "        vertical-align: middle;\n",
       "    }\n",
       "\n",
       "    .dataframe tbody tr th {\n",
       "        vertical-align: top;\n",
       "    }\n",
       "\n",
       "    .dataframe thead th {\n",
       "        text-align: right;\n",
       "    }\n",
       "</style>\n",
       "<table border=\"1\" class=\"dataframe\">\n",
       "  <thead>\n",
       "    <tr style=\"text-align: right;\">\n",
       "      <th></th>\n",
       "      <th>product_name</th>\n",
       "      <th>department_id</th>\n",
       "    </tr>\n",
       "    <tr>\n",
       "      <th>product_id</th>\n",
       "      <th></th>\n",
       "      <th></th>\n",
       "    </tr>\n",
       "  </thead>\n",
       "  <tbody>\n",
       "    <tr>\n",
       "      <th>1</th>\n",
       "      <td>Chocolate Sandwich Cookies</td>\n",
       "      <td>19</td>\n",
       "    </tr>\n",
       "    <tr>\n",
       "      <th>2</th>\n",
       "      <td>All-Seasons Salt</td>\n",
       "      <td>13</td>\n",
       "    </tr>\n",
       "    <tr>\n",
       "      <th>3</th>\n",
       "      <td>Robust Golden Unsweetened Oolong Tea</td>\n",
       "      <td>7</td>\n",
       "    </tr>\n",
       "    <tr>\n",
       "      <th>4</th>\n",
       "      <td>Smart Ones Classic Favorites Mini Rigatoni Wit...</td>\n",
       "      <td>1</td>\n",
       "    </tr>\n",
       "    <tr>\n",
       "      <th>5</th>\n",
       "      <td>Green Chile Anytime Sauce</td>\n",
       "      <td>13</td>\n",
       "    </tr>\n",
       "    <tr>\n",
       "      <th>...</th>\n",
       "      <td>...</td>\n",
       "      <td>...</td>\n",
       "    </tr>\n",
       "    <tr>\n",
       "      <th>96</th>\n",
       "      <td>Sprinklez Confetti Fun Organic Toppings</td>\n",
       "      <td>13</td>\n",
       "    </tr>\n",
       "    <tr>\n",
       "      <th>97</th>\n",
       "      <td>Organic Chamomile Lemon Tea</td>\n",
       "      <td>7</td>\n",
       "    </tr>\n",
       "    <tr>\n",
       "      <th>98</th>\n",
       "      <td>2% Yellow American Cheese</td>\n",
       "      <td>16</td>\n",
       "    </tr>\n",
       "    <tr>\n",
       "      <th>99</th>\n",
       "      <td>Local Living Butter Lettuce</td>\n",
       "      <td>4</td>\n",
       "    </tr>\n",
       "    <tr>\n",
       "      <th>100</th>\n",
       "      <td>Peanut Butter &amp; Strawberry Jam Sandwich</td>\n",
       "      <td>1</td>\n",
       "    </tr>\n",
       "  </tbody>\n",
       "</table>\n",
       "<p>100 rows × 2 columns</p>\n",
       "</div>"
      ],
      "text/plain": [
       "                                                 product_name  department_id\n",
       "product_id                                                                  \n",
       "1                                  Chocolate Sandwich Cookies             19\n",
       "2                                            All-Seasons Salt             13\n",
       "3                        Robust Golden Unsweetened Oolong Tea              7\n",
       "4           Smart Ones Classic Favorites Mini Rigatoni Wit...              1\n",
       "5                                   Green Chile Anytime Sauce             13\n",
       "...                                                       ...            ...\n",
       "96                    Sprinklez Confetti Fun Organic Toppings             13\n",
       "97                                Organic Chamomile Lemon Tea              7\n",
       "98                                  2% Yellow American Cheese             16\n",
       "99                                Local Living Butter Lettuce              4\n",
       "100                   Peanut Butter & Strawberry Jam Sandwich              1\n",
       "\n",
       "[100 rows x 2 columns]"
      ]
     },
     "execution_count": 6,
     "metadata": {},
     "output_type": "execute_result"
    }
   ],
   "source": [
    "# File names\n",
    "INPUT_PRODUCTS = \"instacart-products.csv\"\n",
    "INPUT_TRANSACTIONS = \"instacart-transactions.csv.gz\"\n",
    "\n",
    "# Read into a dataframe\n",
    "products = pd.read_csv(INPUT_PRODUCTS, delimiter=\",\")\n",
    "\n",
    "# Set product_id as index, and drop column aisle_id\n",
    "products = products.set_index('product_id').drop(columns=['aisle_id'])\n",
    "\n",
    "products.head(100)"
   ]
  },
  {
   "cell_type": "markdown",
   "metadata": {},
   "source": [
    "## 2.1. Select by department"
   ]
  },
  {
   "cell_type": "code",
   "execution_count": 7,
   "metadata": {},
   "outputs": [],
   "source": [
    "# Some of the codes for departments\n",
    "\n",
    "DEPT_BAKERY = 3\n",
    "DEPT_VEGGIES = 4\n",
    "DEPT_ALCOHOL = 5\n",
    "DEPT_WORLD = 6\n",
    "DEPT_DRINKS = 7\n",
    "DEPT_PETS = 8\n",
    "DEPT_PHARMACY = 11\n",
    "DEPT_CLEANING = 17\n",
    "DEPT_BABIES = 18"
   ]
  },
  {
   "cell_type": "code",
   "execution_count": 8,
   "metadata": {},
   "outputs": [],
   "source": [
    "def select_from_departments(df_prod_info, list_prod_id, list_dep_id):\n",
    "    list_prod = []\n",
    "    for prod in list_prod_id:\n",
    "        if df_prod_info.loc[prod].department_id in list_dep_id:\n",
    "            list_prod.append(prod)\n",
    "    \n",
    "    return list_prod #list containing only the product ids that belong to one of the listed departments"
   ]
  },
  {
   "cell_type": "code",
   "execution_count": 23,
   "metadata": {},
   "outputs": [
    {
     "name": "stdout",
     "output_type": "stream",
     "text": [
      "Result 1 for Departments [8, 17] caught items: [21, 26, 54, 57, 71, 111]\n",
      "\n",
      "Result 2 for Departments [4] caught items: [99]\n",
      "\n",
      "Result 3 for Departments [5, 11, 6] caught items: [88, 170]\n"
     ]
    }
   ],
   "source": [
    "prod_id_1 = [21, 26, 45, 54, 57, 71, 111, 112]\n",
    "list_dep_1 = [DEPT_PETS, DEPT_CLEANING]\n",
    "res_1 = select_from_departments(products, prod_id_1, list_dep_1)\n",
    "print(f'Result 1 for Departments {list_dep_1} caught items: {res_1}\\n')\n",
    "\n",
    "prod_id_2 = [47, 42, 54, 59, 3, 99, 100]\n",
    "list_dep_2 = [DEPT_VEGGIES]\n",
    "res_2 = select_from_departments(products, prod_id_2, list_dep_2)\n",
    "print(f'Result 2 for Departments {list_dep_2} caught items: {res_2}\\n')\n",
    "\n",
    "prod_id_3 = [1, 8, 10, 44, 45, 77, 88, 170]\n",
    "list_dep_3 = [DEPT_ALCOHOL, DEPT_PHARMACY, DEPT_WORLD]\n",
    "res_3 = select_from_departments(products, prod_id_3, list_dep_3)\n",
    "print(f'Result 3 for Departments {list_dep_3} caught items: {res_3}')"
   ]
  },
  {
   "cell_type": "markdown",
   "metadata": {},
   "source": [
    "## 2.2. Read and filter transactions"
   ]
  },
  {
   "cell_type": "code",
   "execution_count": 10,
   "metadata": {},
   "outputs": [
    {
     "name": "stdout",
     "output_type": "stream",
     "text": [
      "Number of transactions read = 0 Number of transactions stored = 0\n",
      "Number of transactions read = 1000 Number of transactions stored = 158\n",
      "Number of transactions read = 2000 Number of transactions stored = 311\n",
      "Number of transactions read = 3000 Number of transactions stored = 460\n",
      "Number of transactions read = 4000 Number of transactions stored = 598\n",
      "Number of transactions read = 5000 Number of transactions stored = 745\n",
      "Number of transactions read = 6000 Number of transactions stored = 902\n",
      "Number of transactions read = 7000 Number of transactions stored = 1067\n",
      "Number of transactions read = 8000 Number of transactions stored = 1206\n",
      "Number of transactions read = 9000 Number of transactions stored = 1373\n",
      "Number of transactions read = 10000 Number of transactions stored = 1515\n",
      "Number of transactions read = 11000 Number of transactions stored = 1670\n",
      "Number of transactions read = 12000 Number of transactions stored = 1807\n",
      "Number of transactions read = 13000 Number of transactions stored = 1951\n",
      "Number of transactions read = 14000 Number of transactions stored = 2102\n",
      "Number of transactions read = 15000 Number of transactions stored = 2245\n",
      "Number of transactions read = 16000 Number of transactions stored = 2384\n",
      "Number of transactions read = 17000 Number of transactions stored = 2543\n",
      "Number of transactions read = 18000 Number of transactions stored = 2692\n",
      "Number of transactions read = 19000 Number of transactions stored = 2840\n",
      "Number of transactions read = 20000 Number of transactions stored = 2974\n",
      "Number of transactions read = 21000 Number of transactions stored = 3125\n",
      "Number of transactions read = 22000 Number of transactions stored = 3267\n",
      "Number of transactions read = 23000 Number of transactions stored = 3407\n",
      "Number of transactions read = 24000 Number of transactions stored = 3578\n",
      "Number of transactions read = 25000 Number of transactions stored = 3748\n",
      "Number of transactions read = 26000 Number of transactions stored = 3891\n",
      "Number of transactions read = 27000 Number of transactions stored = 4028\n",
      "Number of transactions read = 28000 Number of transactions stored = 4164\n",
      "Number of transactions read = 29000 Number of transactions stored = 4304\n",
      "Number of transactions read = 30000 Number of transactions stored = 4421\n",
      "Number of transactions read = 31000 Number of transactions stored = 4560\n",
      "Number of transactions read = 32000 Number of transactions stored = 4700\n",
      "Number of transactions read = 33000 Number of transactions stored = 4837\n",
      "Number of transactions read = 34000 Number of transactions stored = 4974\n"
     ]
    }
   ],
   "source": [
    "# Code to open a compressed file\n",
    "\n",
    "transactions = []\n",
    "transaction_count = 0\n",
    "count_rows = 0\n",
    "with gzip.open(INPUT_TRANSACTIONS, \"rt\") as inputfile:\n",
    "\n",
    "    # Create a CSV reader\n",
    "    reader = csv.reader(inputfile, delimiter=\",\")\n",
    "\n",
    "    # Iterate through the CSV file\n",
    "    for row in reader:\n",
    "        if transaction_count >= 5000:\n",
    "            break\n",
    "        else:\n",
    "            items = [int(x) for x in row] # Convert to integers\n",
    "            if count_rows % 1000 == 0: \n",
    "                print('Number of transactions read = %d Number of transactions stored = %d'%(count_rows, transaction_count))\n",
    "            product_clean = []\n",
    "            for item in items:\n",
    "                if products.loc[item].department_id == DEPT_CLEANING: \n",
    "                    product_clean.append(item) # Append item to the array of items that belong to DEPT_CLEANING\n",
    "            if len(product_clean) > 0:\n",
    "                transactions.append(product_clean) # Append the array of items that belong to DEPT_CLEANING to transactions\n",
    "                transaction_count += 1\n",
    "        count_rows += 1\n",
    "            \n",
    "            \n",
    "        \n",
    "        "
   ]
  },
  {
   "cell_type": "markdown",
   "metadata": {},
   "source": [
    "## 2.3. Extract association rules and comment on them (DEPT_CLEANING)"
   ]
  },
  {
   "cell_type": "code",
   "execution_count": 11,
   "metadata": {},
   "outputs": [
    {
     "name": "stdout",
     "output_type": "stream",
     "text": [
      "Rules involving itemset [18229, 21653]\n",
      "['Plastic Knives'] => ['Compostable Forks'] (support=0.0008, confidence=1.00, lift=250.00)\n",
      "\n",
      "Rules involving itemset [41387, 18229, 21653]\n",
      "['Plastic Spoons', 'Plastic Knives'] => ['Compostable Forks'] (support=0.0006, confidence=1.00, lift=250.00)\n",
      "\n",
      "Rules involving itemset [29474, 41387, 21653]\n",
      "['Bowls', 'Plastic Spoons'] => ['Compostable Forks'] (support=0.0006, confidence=1.00, lift=250.00)\n",
      "\n"
     ]
    }
   ],
   "source": [
    "results =list(apriori(transactions = transactions, min_support=0.0005, min_confidence=0.75, min_lift=1.0))\n",
    "print_apyori_output(results, products, 'product_name')"
   ]
  },
  {
   "cell_type": "markdown",
   "metadata": {},
   "source": [
    "What I would recommend to the shopping app is to use this extraction of association rules process to get items that are bought frequently if other items are also bought. With this information I would put those related items near each other in the shopping app. In other words: if customer buys item 1, and item 1 has been related to item 2, the customer should see item 2 also in their screen. The reason is because customers tend to buy recommended items."
   ]
  },
  {
   "cell_type": "markdown",
   "metadata": {},
   "source": [
    "## 2.4. Extract association rules and comment on them (other departments)"
   ]
  },
  {
   "cell_type": "code",
   "execution_count": 26,
   "metadata": {},
   "outputs": [
    {
     "name": "stdout",
     "output_type": "stream",
     "text": [
      "We start the computations for departments: [3, 4]\n",
      "Number of transactions read = 0 Number of transactions stored = 0\n",
      "Number of transactions read = 1000 Number of transactions stored = 817\n",
      "Number of transactions read = 2000 Number of transactions stored = 1600\n",
      "Number of transactions read = 3000 Number of transactions stored = 2400\n",
      "Number of transactions read = 4000 Number of transactions stored = 3193\n",
      "Number of transactions read = 5000 Number of transactions stored = 3971\n",
      "Number of transactions read = 6000 Number of transactions stored = 4749\n"
     ]
    }
   ],
   "source": [
    "departments = [DEPT_BAKERY, DEPT_VEGGIES] # Departments we selected\n",
    "n_departments = len(departments)\n",
    "transactions_md = []\n",
    "transaction_count = 0\n",
    "count_rows = 0\n",
    "\n",
    "with gzip.open(INPUT_TRANSACTIONS, \"rt\") as inputfile:\n",
    "\n",
    "    # Create a CSV reader\n",
    "    reader = csv.reader(inputfile, delimiter=\",\")\n",
    "    \n",
    "\n",
    "    # Iterate through the CSV file\n",
    "    print(f'We start the computations for departments: {departments}')\n",
    "    for row in reader:\n",
    "        if transaction_count >= 5000:\n",
    "            break\n",
    "        else:\n",
    "            items = [int(x) for x in row] # Convert to integers\n",
    "            if count_rows % 1000 == 0: \n",
    "                print('Number of transactions read = %d Number of transactions stored = %d'%(count_rows, transaction_count))\n",
    "            product_array = []\n",
    "            for item in items:\n",
    "                for department in departments:\n",
    "                    if products.loc[item].department_id == department: # If item is in any of the departments we selected, we append item to the list\n",
    "                        product_array.append(item) \n",
    "            if len(product_array) > 0:\n",
    "                transactions_md.append(product_array) # Append the products array of the itemsets of the departments we chose\n",
    "                transaction_count += 1\n",
    "        count_rows += 1\n",
    "    transaction_count = 0\n",
    "    count_rows = 0"
   ]
  },
  {
   "cell_type": "code",
   "execution_count": 30,
   "metadata": {},
   "outputs": [
    {
     "name": "stdout",
     "output_type": "stream",
     "text": [
      "Rules involving itemset [13176, 5077, 27966]\n",
      "['100% Whole Wheat Bread', 'Organic Raspberries'] => ['Bag of Organic Bananas'] (support=0.0014, confidence=0.78, lift=5.15)\n",
      "\n",
      "Rules involving itemset [13176, 26940, 27966]\n",
      "['Organic Large Green Asparagus', 'Organic Raspberries'] => ['Bag of Organic Bananas'] (support=0.0014, confidence=0.88, lift=5.79)\n",
      "\n",
      "Rules involving itemset [13176, 47209, 38159]\n",
      "['Bag of Organic Bananas', 'Organic Yellow Peaches'] => ['Organic Hass Avocado'] (support=0.0014, confidence=0.78, lift=9.15)\n",
      "\n",
      "Rules involving itemset [28985, 24852, 16797]\n",
      "['Michigan Organic Kale', 'Strawberries'] => ['Banana'] (support=0.0018, confidence=0.90, lift=4.71)\n",
      "\n",
      "Rules involving itemset [21137, 27966, 38159]\n",
      "['Organic Raspberries', 'Organic Yellow Peaches'] => ['Organic Strawberries'] (support=0.0014, confidence=1.00, lift=9.54)\n",
      "\n"
     ]
    }
   ],
   "source": [
    "# min_support=0.0011 is the optimal min_support we choose for an optimal result display\n",
    "# if min_support=0.001, we double the results. We have commented it below.\n",
    "#results =list(apriori(transactions = transactions_md, min_support=0.0011, min_confidence=0.75, min_lift=1.0))\n",
    "\n",
    "results =list(apriori(transactions = transactions_md, min_support=0.0011, min_confidence=0.75, min_lift=1.0))\n",
    "print_apyori_output(results, products, 'product_name')"
   ]
  },
  {
   "cell_type": "markdown",
   "metadata": {},
   "source": [
    "What we can observe from the obtained rules is that organic products are frequently bought together. Meaning, that people with a preference to buy ecologic products will base their entire shopping card of on this fact.\n",
    "An improvement that we could make on the shopping app is to create a separate space only for ecologic/organic products. In this way, people will not need to search for those items in the main page."
   ]
  }
 ],
 "metadata": {
  "kernelspec": {
   "display_name": "Python 3",
   "language": "python",
   "name": "python3"
  },
  "language_info": {
   "codemirror_mode": {
    "name": "ipython",
    "version": 3
   },
   "file_extension": ".py",
   "mimetype": "text/x-python",
   "name": "python",
   "nbconvert_exporter": "python",
   "pygments_lexer": "ipython3",
   "version": "3.9.13"
  },
  "vscode": {
   "interpreter": {
    "hash": "8344beb2e3695cc865366b87c9e795fe295d5e1a75013da0c7029a373688a8d6"
   }
  }
 },
 "nbformat": 4,
 "nbformat_minor": 2
}
